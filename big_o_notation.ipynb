{
 "cells": [
  {
   "cell_type": "markdown",
   "metadata": {},
   "source": [
    "## 5. Make a new Jupyter notebook named big_o_notation.ipynb\n",
    "\n",
    " -   Title your chart \"Big O Notation\"\n",
    " -   Label your x axis \"Elements\"\n",
    " -   Label your y axis \"Operations\"\n",
    " -   Label your curves or make a legend for the curves\n",
    " -   Use LaTex notation where possible\n"
   ]
  },
  {
   "cell_type": "code",
   "execution_count": 6,
   "metadata": {},
   "outputs": [],
   "source": [
    "import matplotlib.pyplot as plt"
   ]
  },
  {
   "cell_type": "code",
   "execution_count": 10,
   "metadata": {},
   "outputs": [
    {
     "data": {
      "image/png": "[encoded data removed]",
      "text/plain": [
       "<Figure size 432x288 with 1 Axes>"
      ]
     },
     "metadata": {
      "needs_background": "light"
     },
     "output_type": "display_data"
    }
   ],
   "source": [
    "# y=0x+1 and label the curve \"O(1)\"\n",
    "\n",
    "x = list(range(10))\n",
    "y = [(n * 0 + 1) for n in x]\n",
    "plt.plot(x,y, label= '$0X+1$')\n",
    "plt.title(\"0(1)\")\n",
    "plt.xlabel('Elements', ha = 'center', labelpad = 20)\n",
    "plt.ylabel('Operations', ha = 'center', labelpad =20)\n",
    "plt.show()\n"
   ]
  },
  {
   "cell_type": "code",
   "execution_count": null,
   "metadata": {},
   "outputs": [],
   "source": []
  }
 ],
 "metadata": {
  "kernelspec": {
   "display_name": "Python 3",
   "language": "python",
   "name": "python3"
  },
  "language_info": {
   "codemirror_mode": {
    "name": "ipython",
    "version": 3
   },
   "file_extension": ".py",
   "mimetype": "text/x-python",
   "name": "python",
   "nbconvert_exporter": "python",
   "pygments_lexer": "ipython3",
   "version": "3.8.3"
  }
 },
 "nbformat": 4,
 "nbformat_minor": 4
}
