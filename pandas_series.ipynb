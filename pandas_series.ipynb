{
 "cells": [
  {
   "cell_type": "markdown",
   "metadata": {},
   "source": [
    "## Pandas Series Exercise\n",
    " - Corey Solitaire\n",
    " - 8/11/2020"
   ]
  },
  {
   "cell_type": "code",
   "execution_count": 1,
   "metadata": {},
   "outputs": [],
   "source": [
    "import numpy as np\n",
    "import pandas as pd\n",
    "import matplotlib.pyplot as plt"
   ]
  },
  {
   "cell_type": "markdown",
   "metadata": {},
   "source": [
    "1. Use pandas to create a Series from the following data:\n",
    "\n",
    "[\"kiwi\", \"mango\", \"strawberry\", \"pineapple\", \"gala apple\", \"honeycrisp apple\", \"tomato\", \"watermelon\", \"honeydew\", \"kiwi\", \"kiwi\", \"kiwi\", \"mango\", \"blueberry\", \"blackberry\", \"gooseberry\", \"papaya\"]"
   ]
  },
  {
   "cell_type": "markdown",
   "metadata": {},
   "source": [
    "    a. Name the variable that holds the series fruits."
   ]
  },
  {
   "cell_type": "code",
   "execution_count": 5,
   "metadata": {},
   "outputs": [
    {
     "data": {
      "text/plain": [
       "0                 kiwi\n",
       "1                mango\n",
       "2           strawberry\n",
       "3            pineapple\n",
       "4           gala apple\n",
       "5     honeycrisp apple\n",
       "6               tomato\n",
       "7           watermelon\n",
       "8             honeydew\n",
       "9                 kiwi\n",
       "10                kiwi\n",
       "11                kiwi\n",
       "12               mango\n",
       "13           blueberry\n",
       "14          blackberry\n",
       "15          gooseberry\n",
       "16              papaya\n",
       "dtype: object"
      ]
     },
     "execution_count": 5,
     "metadata": {},
     "output_type": "execute_result"
    }
   ],
   "source": [
    "fruit_series = pd.Series([\"kiwi\", \"mango\", \"strawberry\", \"pineapple\", \"gala apple\", \"honeycrisp apple\", \"tomato\", \"watermelon\", \"honeydew\", \"kiwi\", \"kiwi\", \"kiwi\", \"mango\", \"blueberry\", \"blackberry\", \"gooseberry\", \"papaya\"])\n",
    "fruit_series"
   ]
  },
  {
   "cell_type": "markdown",
   "metadata": {},
   "source": [
    "    b. Run .describe() on the series to see what describe returns for a series of strings."
   ]
  },
  {
   "cell_type": "code",
   "execution_count": 10,
   "metadata": {},
   "outputs": [
    {
     "data": {
      "text/plain": [
       "count       17\n",
       "unique      13\n",
       "top       kiwi\n",
       "freq         4\n",
       "dtype: object"
      ]
     },
     "execution_count": 10,
     "metadata": {},
     "output_type": "execute_result"
    }
   ],
   "source": [
    "fruit_series.describe()"
   ]
  },
  {
   "cell_type": "markdown",
   "metadata": {},
   "source": [
    "    c. Run the code necessary to produce only the unique fruit names."
   ]
  },
  {
   "cell_type": "code",
   "execution_count": 13,
   "metadata": {},
   "outputs": [
    {
     "data": {
      "text/plain": [
       "array(['kiwi', 'mango', 'strawberry', 'pineapple', 'gala apple',\n",
       "       'honeycrisp apple', 'tomato', 'watermelon', 'honeydew',\n",
       "       'blueberry', 'blackberry', 'gooseberry', 'papaya'], dtype=object)"
      ]
     },
     "execution_count": 13,
     "metadata": {},
     "output_type": "execute_result"
    }
   ],
   "source": [
    "fruit_series.unique()"
   ]
  },
  {
   "cell_type": "markdown",
   "metadata": {},
   "source": [
    "    d. Determine how many times each value occurs in the series."
   ]
  },
  {
   "cell_type": "code",
   "execution_count": 12,
   "metadata": {},
   "outputs": [
    {
     "data": {
      "text/plain": [
       "kiwi                4\n",
       "mango               2\n",
       "watermelon          1\n",
       "gala apple          1\n",
       "strawberry          1\n",
       "pineapple           1\n",
       "blueberry           1\n",
       "papaya              1\n",
       "blackberry          1\n",
       "gooseberry          1\n",
       "honeydew            1\n",
       "honeycrisp apple    1\n",
       "tomato              1\n",
       "dtype: int64"
      ]
     },
     "execution_count": 12,
     "metadata": {},
     "output_type": "execute_result"
    }
   ],
   "source": [
    "fruit_series.value_counts()"
   ]
  },
  {
   "cell_type": "markdown",
   "metadata": {},
   "source": [
    "    e. Determine the most frequently occurring fruit name from the series."
   ]
  },
  {
   "cell_type": "code",
   "execution_count": 56,
   "metadata": {},
   "outputs": [
    {
     "data": {
      "text/plain": [
       "kiwi    4\n",
       "dtype: int64"
      ]
     },
     "execution_count": 56,
     "metadata": {},
     "output_type": "execute_result"
    }
   ],
   "source": [
    "most_common_fruit = fruit_series.value_counts().head(1)\n",
    "most_common_fruit\n"
   ]
  },
  {
   "cell_type": "markdown",
   "metadata": {},
   "source": [
    "    f. Determine the least frequently occurring fruit name from the series."
   ]
  },
  {
   "cell_type": "code",
   "execution_count": 75,
   "metadata": {},
   "outputs": [
    {
     "data": {
      "text/plain": [
       "watermelon          1\n",
       "gala apple          1\n",
       "strawberry          1\n",
       "pineapple           1\n",
       "blueberry           1\n",
       "papaya              1\n",
       "blackberry          1\n",
       "gooseberry          1\n",
       "honeydew            1\n",
       "honeycrisp apple    1\n",
       "tomato              1\n",
       "dtype: int64"
      ]
     },
     "execution_count": 75,
     "metadata": {},
     "output_type": "execute_result"
    }
   ],
   "source": [
    "# least_common_fruit = \n",
    "\n",
    "fruit_series.value_counts().nsmallest(keep='all')"
   ]
  },
  {
   "cell_type": "markdown",
   "metadata": {},
   "source": [
    "    g. Write the code to get the longest string from the fruits series."
   ]
  },
  {
   "cell_type": "code",
   "execution_count": 85,
   "metadata": {},
   "outputs": [
    {
     "name": "stdout",
     "output_type": "stream",
     "text": [
      "['honeycrisp apple']\n"
     ]
    }
   ],
   "source": [
    "u_fruits = fruit_series.unique()\n",
    "longest_name_fruit = []\n",
    "for f in u_fruits:\n",
    "    if len(f) == max(len(f) for f in u_fruits):\n",
    "        longest_name_fruit.append(f)\n",
    "print(longest_name_fruit)\n",
    "\n"
   ]
  },
  {
   "cell_type": "markdown",
   "metadata": {},
   "source": [
    "    h. Find the fruit(s) with 5 or more letters in the name."
   ]
  },
  {
   "cell_type": "code",
   "execution_count": 63,
   "metadata": {},
   "outputs": [
    {
     "data": {
      "text/plain": [
       "['strawberry',\n",
       " 'pineapple',\n",
       " 'gala apple',\n",
       " 'honeycrisp apple',\n",
       " 'tomato',\n",
       " 'watermelon',\n",
       " 'honeydew',\n",
       " 'blueberry',\n",
       " 'blackberry',\n",
       " 'gooseberry',\n",
       " 'papaya']"
      ]
     },
     "execution_count": 63,
     "metadata": {},
     "output_type": "execute_result"
    }
   ],
   "source": [
    "five_or_more_letters = [f for f in fruit_series if len(f) > 5]\n",
    "five_or_more_letters"
   ]
  },
  {
   "cell_type": "markdown",
   "metadata": {},
   "source": [
    "    i. Capitalize all the fruit strings in the series."
   ]
  },
  {
   "cell_type": "code",
   "execution_count": 78,
   "metadata": {},
   "outputs": [
    {
     "data": {
      "text/plain": [
       "['KIWI',\n",
       " 'MANGO',\n",
       " 'STRAWBERRY',\n",
       " 'PINEAPPLE',\n",
       " 'GALA APPLE',\n",
       " 'HONEYCRISP APPLE',\n",
       " 'TOMATO',\n",
       " 'WATERMELON',\n",
       " 'HONEYDEW',\n",
       " 'KIWI',\n",
       " 'KIWI',\n",
       " 'KIWI',\n",
       " 'MANGO',\n",
       " 'BLUEBERRY',\n",
       " 'BLACKBERRY',\n",
       " 'GOOSEBERRY',\n",
       " 'PAPAYA']"
      ]
     },
     "execution_count": 78,
     "metadata": {},
     "output_type": "execute_result"
    }
   ],
   "source": [
    "# capitaliz_all_fruit = fruit_series.unique()\n",
    "# newList = []\n",
    "# for f in capitaliz_all_fruit:\n",
    "#     newList.append(f.upper())\n",
    "# print(newList)\n",
    "\n",
    "capitaliz_all_fruit =[(f.upper()) for f in fruit_series]\n",
    "capitaliz_all_fruit"
   ]
  },
  {
   "cell_type": "markdown",
   "metadata": {},
   "source": [
    "    j. Count the letter \"a\" in all the fruits (use string vectorization)"
   ]
  },
  {
   "cell_type": "code",
   "execution_count": 88,
   "metadata": {},
   "outputs": [
    {
     "data": {
      "text/plain": [
       "14"
      ]
     },
     "execution_count": 88,
     "metadata": {},
     "output_type": "execute_result"
    }
   ],
   "source": [
    "letter_a_count = sum(fruit_series.str.count('a'))\n",
    "letter_a_count"
   ]
  },
  {
   "cell_type": "markdown",
   "metadata": {},
   "source": [
    "    k. Output the number of vowels in each and every fruit."
   ]
  },
  {
   "cell_type": "code",
   "execution_count": 162,
   "metadata": {},
   "outputs": [
    {
     "data": {
      "text/plain": [
       "0     2\n",
       "1     2\n",
       "2     2\n",
       "3     4\n",
       "4     4\n",
       "5     5\n",
       "6     3\n",
       "7     4\n",
       "8     3\n",
       "9     2\n",
       "10    2\n",
       "11    2\n",
       "12    2\n",
       "13    3\n",
       "14    2\n",
       "15    4\n",
       "16    3\n",
       "dtype: int64"
      ]
     },
     "execution_count": 162,
     "metadata": {},
     "output_type": "execute_result"
    }
   ],
   "source": [
    "\n",
    "# vowel_count = len([e for x in fruit_series for e in x if e.lower() in 'aeiou'])\n",
    "# vowel_count\n",
    "\n",
    "fruit_series.str.count('[aeiou]')"
   ]
  },
  {
   "cell_type": "markdown",
   "metadata": {},
   "source": [
    "    l. Use the .apply method and a lambda function to find the fruit(s) containing two or more \"o\" letters in the \n",
    "       name."
   ]
  },
  {
   "cell_type": "code",
   "execution_count": 122,
   "metadata": {},
   "outputs": [
    {
     "data": {
      "text/plain": [
       "6         tomato\n",
       "15    gooseberry\n",
       "dtype: object"
      ]
     },
     "execution_count": 122,
     "metadata": {},
     "output_type": "execute_result"
    }
   ],
   "source": [
    "two_or_more_o = fruit_series[fruit_series.apply(lambda fruit_series: fruit_series.count('o') >= 2)]\n",
    "two_or_more_o\n",
    "\n",
    "# fruits[fruits.apply(lambda fruit: fruit.count(\"o\")>= 2 )]"
   ]
  },
  {
   "cell_type": "markdown",
   "metadata": {},
   "source": [
    "    m. Write the code to get only the fruits containing \"berry\" in the name"
   ]
  },
  {
   "cell_type": "code",
   "execution_count": 137,
   "metadata": {},
   "outputs": [
    {
     "data": {
      "text/plain": [
       "2     strawberry\n",
       "13     blueberry\n",
       "14    blackberry\n",
       "15    gooseberry\n",
       "dtype: object"
      ]
     },
     "execution_count": 137,
     "metadata": {},
     "output_type": "execute_result"
    }
   ],
   "source": [
    "fruits_with_berry = fruit_series[fruit_series.str.contains('berry')]\n",
    "fruits_with_berry"
   ]
  },
  {
   "cell_type": "markdown",
   "metadata": {},
   "source": [
    "    n. Write the code to get only the fruits containing \"apple\" in the name"
   ]
  },
  {
   "cell_type": "code",
   "execution_count": 138,
   "metadata": {},
   "outputs": [
    {
     "data": {
      "text/plain": [
       "3           pineapple\n",
       "4          gala apple\n",
       "5    honeycrisp apple\n",
       "dtype: object"
      ]
     },
     "execution_count": 138,
     "metadata": {},
     "output_type": "execute_result"
    }
   ],
   "source": [
    "fruits_with_apple = fruit_series[fruit_series.str.contains('apple')]\n",
    "fruits_with_apple"
   ]
  },
  {
   "cell_type": "markdown",
   "metadata": {},
   "source": [
    "    o. Which fruit has the highest amount of vowels?"
   ]
  },
  {
   "cell_type": "code",
   "execution_count": 7,
   "metadata": {},
   "outputs": [
    {
     "data": {
      "text/plain": [
       "5    honeycrisp apple\n",
       "dtype: object"
      ]
     },
     "execution_count": 7,
     "metadata": {},
     "output_type": "execute_result"
    }
   ],
   "source": [
    "# max_vowels = fruit_series[max(fruit_series.str.count('[aeiou]'))]\n",
    "# max_vowels\n",
    "\n",
    "fruit_series[fruit_series.str.count('[aeiou]') == fruit_series.str.count('[aeiou]').max()]"
   ]
  },
  {
   "cell_type": "markdown",
   "metadata": {},
   "source": [
    "2. Use pandas to create a Series from the following data:\n",
    "\n",
    "['$796,459.41', '$278.60', '$482,571.67', '$4,503,915.98', '$2,121,418.3', '$1,260,813.3', '$87,231.01', '$1,509,175.45', '$4,138,548.00', '$2,848,913.80', '$594,715.39', '$4,789,988.17', '$4,513,644.5', '$3,191,059.97', '$1,758,712.24', '$4,338,283.54', '$4,738,303.38', '$2,791,759.67', '$769,681.94', '$452,650.23']"
   ]
  },
  {
   "cell_type": "markdown",
   "metadata": {},
   "source": [
    "    a. What is the data type of the series?"
   ]
  },
  {
   "cell_type": "code",
   "execution_count": 222,
   "metadata": {},
   "outputs": [
    {
     "data": {
      "text/plain": [
       "dtype('O')"
      ]
     },
     "execution_count": 222,
     "metadata": {},
     "output_type": "execute_result"
    }
   ],
   "source": [
    "money_series = pd.Series(['$796,459.41', '$278.60', '$482,571.67', '$4,503,915.98', '$2,121,418.3', '$1,260,813.3', '$87,231.01', '$1,509,175.45', '$4,138,548.00', '$2,848,913.80', '$594,715.39', '$4,789,988.17', '$4,513,644.5', '$3,191,059.97', '$1,758,712.24', '$4,338,283.54', '$4,738,303.38', '$2,791,759.67', '$769,681.94', '$452,650.23'])\n",
    "money_series.dtypes"
   ]
  },
  {
   "cell_type": "markdown",
   "metadata": {},
   "source": [
    "    b. Use series operations to convert the series to a numeric data type.  "
   ]
  },
  {
   "cell_type": "code",
   "execution_count": 223,
   "metadata": {},
   "outputs": [
    {
     "data": {
      "text/plain": [
       "dtype('float64')"
      ]
     },
     "execution_count": 223,
     "metadata": {},
     "output_type": "execute_result"
    }
   ],
   "source": [
    "format_string1 = money_series.str.replace('$','')\n",
    "format_string2 = format_string1.str.replace(',','_')\n",
    "money_series = format_string2.astype('float')\n",
    "money_series.dtypes"
   ]
  },
  {
   "cell_type": "markdown",
   "metadata": {},
   "source": [
    "    c. What is the maximum value? The minimum?"
   ]
  },
  {
   "cell_type": "code",
   "execution_count": 224,
   "metadata": {},
   "outputs": [
    {
     "name": "stdout",
     "output_type": "stream",
     "text": [
      "4789988.17 278.6\n"
     ]
    }
   ],
   "source": [
    "max_value = money_series.max()\n",
    "min_value = money_series.min()\n",
    "print(max_value,  min_value)"
   ]
  },
  {
   "cell_type": "markdown",
   "metadata": {},
   "source": [
    "    d. Bin the data into 4 equally sized intervals and show how many values fall into each bin."
   ]
  },
  {
   "cell_type": "code",
   "execution_count": 228,
   "metadata": {},
   "outputs": [
    {
     "data": {
      "text/plain": [
       "0        (-4511.11, 1197705.993]\n",
       "1        (-4511.11, 1197705.993]\n",
       "2        (-4511.11, 1197705.993]\n",
       "3      (3592560.778, 4789988.17]\n",
       "4     (1197705.993, 2395133.385]\n",
       "5     (1197705.993, 2395133.385]\n",
       "6        (-4511.11, 1197705.993]\n",
       "7     (1197705.993, 2395133.385]\n",
       "8      (3592560.778, 4789988.17]\n",
       "9     (2395133.385, 3592560.778]\n",
       "10       (-4511.11, 1197705.993]\n",
       "11     (3592560.778, 4789988.17]\n",
       "12     (3592560.778, 4789988.17]\n",
       "13    (2395133.385, 3592560.778]\n",
       "14    (1197705.993, 2395133.385]\n",
       "15     (3592560.778, 4789988.17]\n",
       "16     (3592560.778, 4789988.17]\n",
       "17    (2395133.385, 3592560.778]\n",
       "18       (-4511.11, 1197705.993]\n",
       "19       (-4511.11, 1197705.993]\n",
       "dtype: category\n",
       "Categories (4, interval[float64]): [(-4511.11, 1197705.993] < (1197705.993, 2395133.385] < (2395133.385, 3592560.778] < (3592560.778, 4789988.17]]"
      ]
     },
     "execution_count": 228,
     "metadata": {},
     "output_type": "execute_result"
    }
   ],
   "source": [
    "money_series_bin = pd.cut(money_series, 4)\n",
    "money_series_bin"
   ]
  },
  {
   "cell_type": "markdown",
   "metadata": {},
   "source": [
    "    e. Plot a histogram of the data. Be sure to include a title and axis labels."
   ]
  },
  {
   "cell_type": "code",
   "execution_count": 234,
   "metadata": {},
   "outputs": [
    {
     "data": {
      "text/plain": [
       "Text(0.5, 1.0, 'Money Series Bins')"
      ]
     },
     "execution_count": 234,
     "metadata": {},
     "output_type": "execute_result"
    },
    {
     "data": {
      "image/png": "[encoded data removed]",
      "text/plain": [
       "<Figure size 432x288 with 1 Axes>"
      ]
     },
     "metadata": {
      "needs_background": "light"
     },
     "output_type": "display_data"
    }
   ],
   "source": [
    "money_series_bin.value_counts().plot.bar(color='slateblue', width=.9)\n",
    "plt.ylabel('Observed Frequency')\n",
    "plt.title('Money Series Bins')\n"
   ]
  },
  {
   "cell_type": "markdown",
   "metadata": {},
   "source": [
    "3. Use pandas to create a Series from the following exam scores:\n",
    "\n",
    "[60, 86, 75, 62, 93, 71, 60, 83, 95, 78, 65, 72, 69, 81, 96, 80, 85, 92, 82, 78]"
   ]
  },
  {
   "cell_type": "markdown",
   "metadata": {},
   "source": [
    "    a. What is the minimum exam score? The max, mean, median?\n",
    "    "
   ]
  },
  {
   "cell_type": "code",
   "execution_count": 2,
   "metadata": {},
   "outputs": [],
   "source": [
    "exam_series = pd.Series([60, 86, 75, 62, 93, 71, 60, 83, 95, 78, 65, 72, 69, 81, 96, 80, 85, 92, 82, 78])"
   ]
  },
  {
   "cell_type": "markdown",
   "metadata": {},
   "source": [
    "    b. Plot a histogram of the scores.\n",
    "    "
   ]
  },
  {
   "cell_type": "code",
   "execution_count": 3,
   "metadata": {},
   "outputs": [
    {
     "data": {
      "text/plain": [
       "Text(0.5, 1.0, 'Exam Score Bins')"
      ]
     },
     "execution_count": 3,
     "metadata": {},
     "output_type": "execute_result"
    },
    {
     "data": {
      "image/png": "[encoded data removed]",
      "text/plain": [
       "<Figure size 432x288 with 1 Axes>"
      ]
     },
     "metadata": {
      "needs_background": "light"
     },
     "output_type": "display_data"
    }
   ],
   "source": [
    "exam_series_bins = pd.cut(exam_series,[0,60, 70, 80, 90, 100])\n",
    "exam_series_bins.value_counts().plot.bar(color='slateblue', width=.9)\n",
    "plt.ylabel('Observed Frequency')\n",
    "plt.title('Exam Score Bins')"
   ]
  },
  {
   "cell_type": "markdown",
   "metadata": {},
   "source": [
    "    c. Convert each of the numbers above into a letter grade. For example, 86 should be a 'B' and 95 should be an \n",
    "       'A'.\n",
    "       "
   ]
  },
  {
   "cell_type": "code",
   "execution_count": 4,
   "metadata": {},
   "outputs": [
    {
     "data": {
      "text/plain": [
       "0     D\n",
       "1     B\n",
       "2     C\n",
       "3     D\n",
       "4     B\n",
       "5     C\n",
       "6     D\n",
       "7     C\n",
       "8     A\n",
       "9     C\n",
       "10    D\n",
       "11    C\n",
       "12    D\n",
       "13    C\n",
       "14    A\n",
       "15    C\n",
       "16    C\n",
       "17    B\n",
       "18    C\n",
       "19    C\n",
       "dtype: object"
      ]
     },
     "execution_count": 4,
     "metadata": {},
     "output_type": "execute_result"
    }
   ],
   "source": [
    "# Function Works\n",
    "student_grades = exam_series.apply(lambda n: 'A' if n >= 95 else 'B' if n >= 86 else 'C' if n >= 70 else 'D' if n >= 60 else 'F')\n",
    "\n",
    "student_grades"
   ]
  },
  {
   "cell_type": "markdown",
   "metadata": {},
   "source": [
    "    d. Write the code necessary to implement a curve. I.e. that grade closest to 100 should be converted to a 100, \n",
    "       and that many points should be given to every other score as well."
   ]
  },
  {
   "cell_type": "code",
   "execution_count": 11,
   "metadata": {},
   "outputs": [
    {
     "data": {
      "text/plain": [
       "0      64\n",
       "1      90\n",
       "2      79\n",
       "3      66\n",
       "4      97\n",
       "5      75\n",
       "6      64\n",
       "7      87\n",
       "8      99\n",
       "9      82\n",
       "10     69\n",
       "11     76\n",
       "12     73\n",
       "13     85\n",
       "14    100\n",
       "15     84\n",
       "16     89\n",
       "17     96\n",
       "18     86\n",
       "19     82\n",
       "dtype: int64"
      ]
     },
     "execution_count": 11,
     "metadata": {},
     "output_type": "execute_result"
    }
   ],
   "source": [
    "curve = 100 - exam_series.max()\n",
    "exam_series_curve = exam_series + curve\n",
    "exam_series_curve"
   ]
  },
  {
   "cell_type": "markdown",
   "metadata": {},
   "source": [
    "4. Use pandas to create a Series from the following string:\n",
    "\n",
    "'hnvidduckkqxwymbimkccexbkmqygkxoyndmcxnwqarhyffsjpsrabtjzsypmzadfavyrnndndvswreauxovncxtwzpwejilzjrmmbbgbyxvjtewqthafnbkqplarokkyydtubbmnexoypulzwfhqvckdpqtpoppzqrmcvhhpwgjwupgzhiofohawytlsiyecuproguy'"
   ]
  },
  {
   "cell_type": "code",
   "execution_count": 55,
   "metadata": {},
   "outputs": [
    {
     "data": {
      "text/plain": [
       "0      h\n",
       "1      n\n",
       "2      v\n",
       "3      i\n",
       "4      d\n",
       "      ..\n",
       "195    r\n",
       "196    o\n",
       "197    g\n",
       "198    u\n",
       "199    y\n",
       "Length: 200, dtype: object"
      ]
     },
     "execution_count": 55,
     "metadata": {},
     "output_type": "execute_result"
    }
   ],
   "source": [
    "letters = list('hnvidduckkqxwymbimkccexbkmqygkxoyndmcxnwqarhyffsjpsrabtjzsypmzadfavyrnndndvswreauxovncxtwzpwejilzjrmmbbgbyxvjtewqthafnbkqplarokkyydtubbmnexoypulzwfhqvckdpqtpoppzqrmcvhhpwgjwupgzhiofohawytlsiyecuproguy')\n",
    "string_series = pd.Series(letters)\n",
    "string_series"
   ]
  },
  {
   "cell_type": "markdown",
   "metadata": {},
   "source": [
    "    a. What is the most frequently occuring letter? Least frequently occuring?\n",
    "    "
   ]
  },
  {
   "cell_type": "code",
   "execution_count": 64,
   "metadata": {},
   "outputs": [
    {
     "name": "stdout",
     "output_type": "stream",
     "text": [
      "y    13\n",
      "dtype: int64\n",
      "l    4\n",
      "dtype: int64\n"
     ]
    }
   ],
   "source": [
    "most_freq = string_series.value_counts().iloc[[0]]\n",
    "least_freq = string_series.value_counts().iloc[[-1]]\n",
    "\n",
    "print(most_freq)\n",
    "print(least_freq)"
   ]
  },
  {
   "cell_type": "markdown",
   "metadata": {},
   "source": [
    "    b. How many vowels are in the list?\n",
    "    "
   ]
  },
  {
   "cell_type": "code",
   "execution_count": 56,
   "metadata": {},
   "outputs": [
    {
     "data": {
      "text/plain": [
       "34"
      ]
     },
     "execution_count": 56,
     "metadata": {},
     "output_type": "execute_result"
    }
   ],
   "source": [
    "vowels_in_list = string_series.str.count('[aeiou]').sum()\n",
    "vowels_in_list\n"
   ]
  },
  {
   "cell_type": "markdown",
   "metadata": {},
   "source": [
    "    c. How many consonants are in the list?\n",
    "    "
   ]
  },
  {
   "cell_type": "code",
   "execution_count": 75,
   "metadata": {},
   "outputs": [
    {
     "data": {
      "text/plain": [
       "166"
      ]
     },
     "execution_count": 75,
     "metadata": {},
     "output_type": "execute_result"
    }
   ],
   "source": [
    "total_letters = string_series.value_counts().sum()\n",
    "consonants = total_letters - vowels_in_list\n",
    "consonants"
   ]
  },
  {
   "cell_type": "markdown",
   "metadata": {},
   "source": [
    "    d. Create a series that has all of the same letters, but uppercased\n",
    "    "
   ]
  },
  {
   "cell_type": "code",
   "execution_count": 77,
   "metadata": {},
   "outputs": [
    {
     "data": {
      "text/plain": [
       "0      H\n",
       "1      N\n",
       "2      V\n",
       "3      I\n",
       "4      D\n",
       "      ..\n",
       "195    R\n",
       "196    O\n",
       "197    G\n",
       "198    U\n",
       "199    Y\n",
       "Length: 200, dtype: object"
      ]
     },
     "execution_count": 77,
     "metadata": {},
     "output_type": "execute_result"
    }
   ],
   "source": [
    "uppercase = string_series.str.upper()\n",
    "uppercase"
   ]
  },
  {
   "cell_type": "markdown",
   "metadata": {},
   "source": [
    "    e. Create a bar plot of the frequencies of the 6 most frequently occuring letters."
   ]
  },
  {
   "cell_type": "code",
   "execution_count": 96,
   "metadata": {},
   "outputs": [
    {
     "data": {
      "text/plain": [
       "<BarContainer object of 6 artists>"
      ]
     },
     "execution_count": 96,
     "metadata": {},
     "output_type": "execute_result"
    },
    {
     "data": {
      "image/png": "[encoded data removed]",
      "text/plain": [
       "<Figure size 432x288 with 1 Axes>"
      ]
     },
     "metadata": {
      "needs_background": "light"
     },
     "output_type": "display_data"
    }
   ],
   "source": [
    "\n",
    "high_freq = string_series.value_counts().head(6)\n",
    "plt.title('Letter Frequency Graph')\n",
    "plt.xlabel('Letter')\n",
    "plt.ylabel('Frequency')\n",
    "x = high_freq.index\n",
    "y = high_freq\n",
    "plt.bar(x,y)\n"
   ]
  },
  {
   "cell_type": "code",
   "execution_count": 97,
   "metadata": {},
   "outputs": [
    {
     "data": {
      "text/plain": [
       "Index(['y', 'p', 'w', 'b', 'm', 'n'], dtype='object')"
      ]
     },
     "execution_count": 97,
     "metadata": {},
     "output_type": "execute_result"
    }
   ],
   "source": [
    "high_freq.index\n"
   ]
  },
  {
   "cell_type": "markdown",
   "metadata": {},
   "source": [
    "## 5. Ryan Problems"
   ]
  },
  {
   "cell_type": "code",
   "execution_count": null,
   "metadata": {},
   "outputs": [],
   "source": [
    "## 17 list comprehension problems in python"
   ]
  },
  {
   "cell_type": "code",
   "execution_count": 98,
   "metadata": {},
   "outputs": [],
   "source": [
    "fruits = ['mango', 'kiwi', 'strawberry', 'guava', 'pineapple', 'mandarin orange']"
   ]
  },
  {
   "cell_type": "code",
   "execution_count": 99,
   "metadata": {},
   "outputs": [],
   "source": [
    "numbers = [2, 3, 4, 5, 6, 7, 8, 9, 10, 11, 13, 17, 19, 23, 256, -8, -4, -2, 5, -9]"
   ]
  },
  {
   "cell_type": "code",
   "execution_count": null,
   "metadata": {},
   "outputs": [],
   "source": [
    "## Example for loop solution to add 1 to each number in the list"
   ]
  },
  {
   "cell_type": "code",
   "execution_count": 101,
   "metadata": {},
   "outputs": [
    {
     "data": {
      "text/plain": [
       "[3, 4, 5, 6, 7, 8, 9, 10, 11, 12, 14, 18, 20, 24, 257, -7, -3, -1, 6, -8]"
      ]
     },
     "execution_count": 101,
     "metadata": {},
     "output_type": "execute_result"
    }
   ],
   "source": [
    "numbers_plus_one = []\n",
    "for number in numbers:\n",
    "    numbers_plus_one.append(number + 1)\n",
    "    \n",
    "numbers_plus_one"
   ]
  },
  {
   "cell_type": "code",
   "execution_count": null,
   "metadata": {},
   "outputs": [],
   "source": [
    "## Example of using a list comprehension to create a list of the numbers plus one."
   ]
  },
  {
   "cell_type": "code",
   "execution_count": 102,
   "metadata": {},
   "outputs": [
    {
     "data": {
      "text/plain": [
       "[3, 4, 5, 6, 7, 8, 9, 10, 11, 12, 14, 18, 20, 24, 257, -7, -3, -1, 6, -8]"
      ]
     },
     "execution_count": 102,
     "metadata": {},
     "output_type": "execute_result"
    }
   ],
   "source": [
    "numbers_plus_one = [number + 1 for number in numbers]\n",
    "numbers_plus_one"
   ]
  },
  {
   "cell_type": "code",
   "execution_count": null,
   "metadata": {},
   "outputs": [],
   "source": []
  },
  {
   "cell_type": "code",
   "execution_count": null,
   "metadata": {},
   "outputs": [],
   "source": [
    "## Example code that creates a list of all of the list of strings in fruits and uppercases every string"
   ]
  },
  {
   "cell_type": "code",
   "execution_count": 119,
   "metadata": {},
   "outputs": [
    {
     "data": {
      "text/plain": [
       "['MANGO', 'KIWI', 'STRAWBERRY', 'GUAVA', 'PINEAPPLE', 'MANDARIN ORANGE']"
      ]
     },
     "execution_count": 119,
     "metadata": {},
     "output_type": "execute_result"
    }
   ],
   "source": [
    "output = []\n",
    "for fruit in fruits:\n",
    "    output.append(fruit.upper())\n",
    "output"
   ]
  },
  {
   "cell_type": "markdown",
   "metadata": {},
   "source": [
    "  \n",
    "## Exercise 1 - rewrite the above example code using list comprehension syntax. Make a variable named uppercased_fruits to hold the output of the list comprehension. Output should be ['MANGO', 'KIWI', etc...]"
   ]
  },
  {
   "cell_type": "code",
   "execution_count": 121,
   "metadata": {},
   "outputs": [
    {
     "data": {
      "text/plain": [
       "0              MANGO\n",
       "1               KIWI\n",
       "2         STRAWBERRY\n",
       "3              GUAVA\n",
       "4          PINEAPPLE\n",
       "5    MANDARIN ORANGE\n",
       "dtype: object"
      ]
     },
     "execution_count": 121,
     "metadata": {},
     "output_type": "execute_result"
    }
   ],
   "source": [
    "fruit_series = pd.Series(fruits)\n",
    "uppercase_fruits = fruit_series.str.upper()\n",
    "uppercase_fruits"
   ]
  },
  {
   "cell_type": "markdown",
   "metadata": {},
   "source": [
    "## Exercise 2 - create a variable named capitalized_fruits and use list comprehension syntax to produce output like ['Mango', 'Kiwi', 'Strawberry', etc...]"
   ]
  },
  {
   "cell_type": "code",
   "execution_count": 136,
   "metadata": {},
   "outputs": [
    {
     "data": {
      "text/plain": [
       "0              Mango\n",
       "1               Kiwi\n",
       "2         Strawberry\n",
       "3              Guava\n",
       "4          Pineapple\n",
       "5    Mandarin orange\n",
       "dtype: object"
      ]
     },
     "execution_count": 136,
     "metadata": {},
     "output_type": "execute_result"
    }
   ],
   "source": [
    "capitalized_fruits = fruit_series.str.capitalize()\n",
    "capitalized_fruits\n",
    "\n",
    "# fruit_series.str.upper()[0][0] \n",
    "# [i.str.upper()[0][0] for i in fruit_series]"
   ]
  },
  {
   "cell_type": "code",
   "execution_count": null,
   "metadata": {},
   "outputs": [],
   "source": []
  },
  {
   "cell_type": "markdown",
   "metadata": {},
   "source": [
    "## Exercise 3 - Use a list comprehension to make a variable named fruits_with_more_than_two_vowels. Hint: You'll need a way to check if something is a vowel."
   ]
  },
  {
   "cell_type": "code",
   "execution_count": 150,
   "metadata": {},
   "outputs": [
    {
     "data": {
      "text/plain": [
       "3              guava\n",
       "4          pineapple\n",
       "5    mandarin orange\n",
       "dtype: object"
      ]
     },
     "execution_count": 150,
     "metadata": {},
     "output_type": "execute_result"
    }
   ],
   "source": [
    "# fruits_with_more_than_two_vowels = fruit_series.str.count('[aeiou]')\n",
    "# fruits_with_more_than_two_vowels\n",
    "\n",
    "# fruit_series[fruit_series.str.count('[aeiou]') == (fruit_series.str.count('[aeiou]') > 2)]\n",
    "\n",
    "fruit_series[fruit_series.str.count('[aeiou]') > 2]"
   ]
  },
  {
   "cell_type": "markdown",
   "metadata": {},
   "source": [
    "## Exercise 4 - make a variable named fruits_with_only_two_vowels. The result should be ['mango', 'kiwi', 'strawberry']"
   ]
  },
  {
   "cell_type": "code",
   "execution_count": null,
   "metadata": {},
   "outputs": [],
   "source": []
  },
  {
   "cell_type": "markdown",
   "metadata": {},
   "source": [
    "## Exercise 5 - make a list that contains each fruit with more than 5 characters"
   ]
  },
  {
   "cell_type": "code",
   "execution_count": null,
   "metadata": {},
   "outputs": [],
   "source": []
  },
  {
   "cell_type": "markdown",
   "metadata": {},
   "source": [
    "## Exercise 6 - make a list that contains each fruit with exactly 5 characters"
   ]
  },
  {
   "cell_type": "code",
   "execution_count": null,
   "metadata": {},
   "outputs": [],
   "source": []
  },
  {
   "cell_type": "markdown",
   "metadata": {},
   "source": [
    "## Exercise 7 - Make a list that contains fruits that have less than 5 characters"
   ]
  },
  {
   "cell_type": "code",
   "execution_count": null,
   "metadata": {},
   "outputs": [],
   "source": []
  },
  {
   "cell_type": "markdown",
   "metadata": {},
   "source": [
    "## Exercise 8 - Make a list containing the number of characters in each fruit. Output would be [5, 4, 10, etc... ]"
   ]
  },
  {
   "cell_type": "code",
   "execution_count": null,
   "metadata": {},
   "outputs": [],
   "source": []
  },
  {
   "cell_type": "markdown",
   "metadata": {},
   "source": [
    "## Exercise 9 - Make a variable named fruits_with_letter_a that contains a list of only the fruits that contain the letter \"a\""
   ]
  },
  {
   "cell_type": "code",
   "execution_count": null,
   "metadata": {},
   "outputs": [],
   "source": []
  },
  {
   "cell_type": "markdown",
   "metadata": {},
   "source": [
    "## Exercise 10 - Make a variable named even_numbers that holds only the even numbers "
   ]
  },
  {
   "cell_type": "code",
   "execution_count": null,
   "metadata": {},
   "outputs": [],
   "source": []
  },
  {
   "cell_type": "markdown",
   "metadata": {},
   "source": [
    "## Exercise 11 - Make a variable named odd_numbers that holds only the odd numbers"
   ]
  },
  {
   "cell_type": "code",
   "execution_count": null,
   "metadata": {},
   "outputs": [],
   "source": []
  },
  {
   "cell_type": "markdown",
   "metadata": {},
   "source": [
    "## Exercise 12 - Make a variable named positive_numbers that holds only the positive numbers"
   ]
  },
  {
   "cell_type": "code",
   "execution_count": null,
   "metadata": {},
   "outputs": [],
   "source": []
  },
  {
   "cell_type": "markdown",
   "metadata": {},
   "source": [
    "## Exercise 13 - Make a variable named negative_numbers that holds only the negative numbers"
   ]
  },
  {
   "cell_type": "code",
   "execution_count": null,
   "metadata": {},
   "outputs": [],
   "source": []
  },
  {
   "cell_type": "markdown",
   "metadata": {},
   "source": [
    "## Exercise 14 - use a list comprehension w/ a conditional in order to produce a list of numbers with 2 or more numerals"
   ]
  },
  {
   "cell_type": "code",
   "execution_count": null,
   "metadata": {},
   "outputs": [],
   "source": []
  },
  {
   "cell_type": "markdown",
   "metadata": {},
   "source": [
    "## Exercise 15 - Make a variable named numbers_squared that contains the numbers list with each element squared. Output is [4, 9, 16, etc...]"
   ]
  },
  {
   "cell_type": "code",
   "execution_count": null,
   "metadata": {},
   "outputs": [],
   "source": []
  },
  {
   "cell_type": "markdown",
   "metadata": {},
   "source": [
    "## Exercise 16 - Make a variable named odd_negative_numbers that contains only the numbers that are both odd and negative."
   ]
  },
  {
   "cell_type": "code",
   "execution_count": null,
   "metadata": {},
   "outputs": [],
   "source": []
  },
  {
   "cell_type": "markdown",
   "metadata": {},
   "source": [
    "## Exercise 17 - Make a variable named numbers_plus_5. In it, return a list containing each number plus five. "
   ]
  },
  {
   "cell_type": "code",
   "execution_count": null,
   "metadata": {},
   "outputs": [],
   "source": []
  },
  {
   "cell_type": "markdown",
   "metadata": {},
   "source": [
    "## BONUS Make a variable named \"primes\" that is a list containing the prime numbers in the numbers list. *Hint* you may want to make or find a helper function that determines if a given number is prime or not."
   ]
  },
  {
   "cell_type": "code",
   "execution_count": null,
   "metadata": {},
   "outputs": [],
   "source": []
  }
 ],
 "metadata": {
  "kernelspec": {
   "display_name": "Python 3",
   "language": "python",
   "name": "python3"
  },
  "language_info": {
   "codemirror_mode": {
    "name": "ipython",
    "version": 3
   },
   "file_extension": ".py",
   "mimetype": "text/x-python",
   "name": "python",
   "nbconvert_exporter": "python",
   "pygments_lexer": "ipython3",
   "version": "3.8.3"
  }
 },
 "nbformat": 4,
 "nbformat_minor": 4
}
